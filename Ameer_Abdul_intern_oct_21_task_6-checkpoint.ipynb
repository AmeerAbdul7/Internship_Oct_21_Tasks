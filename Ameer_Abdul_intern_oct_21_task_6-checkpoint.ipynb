{
 "cells": [
  {
   "cell_type": "markdown",
   "metadata": {},
   "source": [
    "**Q1. You are given a space separated list of numbers.\n",
    "Your task is to print a reversed NumPy array with the element type float.**"
   ]
  },
  {
   "cell_type": "code",
   "execution_count": 1,
   "metadata": {},
   "outputs": [
    {
     "name": "stdout",
     "output_type": "stream",
     "text": [
      "1 2 -3 4.5 6\n",
      "[ 6.   4.5 -3.   2.   1. ]\n"
     ]
    }
   ],
   "source": [
    "import numpy as np\n",
    "\n",
    "def mat(arr):\n",
    "    arr.reverse()\n",
    "    a = np.array(arr,float)\n",
    "    print(a)\n",
    "    \n",
    "arr = input().strip().split(' ')\n",
    "mat(arr)"
   ]
  },
  {
   "cell_type": "markdown",
   "metadata": {},
   "source": [
    "**Q2. You are given a space separated list of nine integers. Your task is to convert this list into a X NumPy array.**"
   ]
  },
  {
   "cell_type": "code",
   "execution_count": 12,
   "metadata": {},
   "outputs": [
    {
     "name": "stdout",
     "output_type": "stream",
     "text": [
      "1 2 3 4 5 6 7 8 9\n",
      "[[1 2 3]\n",
      " [4 5 6]\n",
      " [7 8 9]]\n"
     ]
    }
   ],
   "source": [
    "arr = np.array(input().split(' '), int)\n",
    "\n",
    "print(np.reshape(arr, (3,3)))\n"
   ]
  },
  {
   "cell_type": "markdown",
   "metadata": {},
   "source": [
    "**Q3. You are given a N X M integer array matrix with space separated elements (N = rows and \n",
    "M = columns), task is to print the transpose and flatten results.**"
   ]
  },
  {
   "cell_type": "code",
   "execution_count": 2,
   "metadata": {},
   "outputs": [
    {
     "name": "stdout",
     "output_type": "stream",
     "text": [
      "2 3\n",
      "1 2 3\n",
      "4 5 6\n",
      "[[1 4]\n",
      " [2 5]\n",
      " [3 6]]\n",
      "[1 2 3 4 5 6]\n"
     ]
    }
   ],
   "source": [
    "N, M = map(int, input().split(' ')) \n",
    "\n",
    "arr  = np.array([input().split(' ') for i in range(N)], int)\n",
    "print(arr.transpose())\n",
    "print(arr.flatten())"
   ]
  },
  {
   "cell_type": "markdown",
   "metadata": {},
   "source": [
    "**Q4. You are given two integer arrays of size X and X ( &  are rows, and  is the column). Your task is to concatenate the arrays along axis .**"
   ]
  },
  {
   "cell_type": "code",
   "execution_count": 15,
   "metadata": {},
   "outputs": [
    {
     "name": "stdout",
     "output_type": "stream",
     "text": [
      "2 3 4\n",
      "1 2 3 4\n",
      "5 6 7 8\n",
      "9 0 9 8\n",
      "7 6 5 4\n",
      "3 2 1 7\n",
      "[[1 2 3 4]\n",
      " [5 6 7 8]\n",
      " [9 0 9 8]\n",
      " [7 6 5 4]\n",
      " [3 2 1 7]]\n"
     ]
    }
   ],
   "source": [
    "N, M, P = map(int, input().split(' '))\n",
    "\n",
    "arr_1 = np.array([input().split(' ') for i in range(N)], int)\n",
    "arr_2 = np.array([input().split(' ') for j in range(M)], int)\n",
    "\n",
    "print(np.concatenate((arr_1, arr_2), axis = 0))"
   ]
  },
  {
   "cell_type": "markdown",
   "metadata": {},
   "source": [
    "**Q5. You are given the shape of the array in the form of space-separated integers, each integer representing the size of different dimensions, your task is to print an array of the given shape and integer type using the tools numpy.zeros and numpy.ones.**"
   ]
  },
  {
   "cell_type": "code",
   "execution_count": 25,
   "metadata": {},
   "outputs": [
    {
     "name": "stdout",
     "output_type": "stream",
     "text": [
      "3 3 3\n",
      "[[[0 0 0]\n",
      "  [0 0 0]\n",
      "  [0 0 0]]\n",
      "\n",
      " [[0 0 0]\n",
      "  [0 0 0]\n",
      "  [0 0 0]]\n",
      "\n",
      " [[0 0 0]\n",
      "  [0 0 0]\n",
      "  [0 0 0]]]\n",
      "[[[1 1 1]\n",
      "  [1 1 1]\n",
      "  [1 1 1]]\n",
      "\n",
      " [[1 1 1]\n",
      "  [1 1 1]\n",
      "  [1 1 1]]\n",
      "\n",
      " [[1 1 1]\n",
      "  [1 1 1]\n",
      "  [1 1 1]]]\n"
     ]
    }
   ],
   "source": [
    "size = tuple(map(int, input().split(' ')))\n",
    "print(np.zeros(size, int))\n",
    "print(np.ones(size, int))"
   ]
  },
  {
   "cell_type": "markdown",
   "metadata": {},
   "source": [
    "**Q6. Task is to print an array of size NXM with its main diagonal elements as 1's and 0's everywhere else.**"
   ]
  },
  {
   "cell_type": "code",
   "execution_count": 26,
   "metadata": {},
   "outputs": [
    {
     "name": "stdout",
     "output_type": "stream",
     "text": [
      "3 3\n",
      "[[ 1.  0.  0.]\n",
      " [ 0.  1.  0.]\n",
      " [ 0.  0.  1.]]\n"
     ]
    }
   ],
   "source": [
    "np.set_printoptions(legacy='1.13')\n",
    "a,b = map(int, input().split(' '))\n",
    "arr = np.eye(a,b)\n",
    "print(arr)"
   ]
  },
  {
   "cell_type": "markdown",
   "metadata": {},
   "source": [
    "**Q7. You are given two integer arrays, A and B of dimensions NXM. task is to perform the following operations:<br>\n",
    "Add (A+B)<br>\n",
    "Subtract (A-B)<br>\n",
    "Multiply (A*B)<br>\n",
    "Integer Division ( A/B )<br>\n",
    "Mod ( A%B )<br>\n",
    "Power (A^B).**"
   ]
  },
  {
   "cell_type": "code",
   "execution_count": 3,
   "metadata": {},
   "outputs": [
    {
     "name": "stdout",
     "output_type": "stream",
     "text": [
      "1 3\n",
      "1 2 3\n",
      "9 8 7\n",
      "[[10 10 10]]\n",
      "[[-8 -6 -4]]\n",
      "[[ 9 16 21]]\n",
      "[[0 0 0]]\n",
      "[[1 2 3]]\n",
      "[[   1  256 2187]]\n"
     ]
    }
   ],
   "source": [
    "N,M = map(int, input().split(' '))\n",
    "\n",
    "A = np.array([input().split(' ') for i in range(N)], int)\n",
    "B = np.array([input().split(' ') for i in range(N)], int)\n",
    "\n",
    "print(np.add(A,B))\n",
    "print(np.subtract(A,B))\n",
    "print(np.multiply(A,B))\n",
    "print(np.floor_divide(A,B))\n",
    "print(np.mod(A,B))\n",
    "print(np.power(A,B))"
   ]
  },
  {
   "cell_type": "markdown",
   "metadata": {},
   "source": [
    "**Q8. You are given a 1-D array, A.task is to print the floor, ceil and rint of all the elements of A.**"
   ]
  },
  {
   "cell_type": "code",
   "execution_count": 11,
   "metadata": {},
   "outputs": [
    {
     "name": "stdout",
     "output_type": "stream",
     "text": [
      "1.1 2.2 3.3 4.4 5.5 6.6 7.7 8.8\n",
      "[1. 2. 3. 4. 5. 6. 7. 8.]\n",
      "[2. 3. 4. 5. 6. 7. 8. 9.]\n",
      "[1. 2. 3. 4. 6. 7. 8. 9.]\n"
     ]
    }
   ],
   "source": [
    "arr  = input().split(' ')\n",
    "\n",
    "A = np.array(arr, float)\n",
    "\n",
    "print(np.floor(A))\n",
    "print(np.ceil(A))\n",
    "print(np.rint(A))"
   ]
  },
  {
   "cell_type": "markdown",
   "metadata": {},
   "source": [
    "**Q9. You are given a 2-D array with dimensions NXM.\n",
    "Your task is to perform the sum tool over axis 0 and then find the product of that result.**"
   ]
  },
  {
   "cell_type": "code",
   "execution_count": 12,
   "metadata": {},
   "outputs": [
    {
     "name": "stdout",
     "output_type": "stream",
     "text": [
      "2 2\n",
      "1 2\n",
      "3 4\n",
      "24\n"
     ]
    }
   ],
   "source": [
    "N,M = map(int, input().split(' '))\n",
    "\n",
    "arr = np.array([input().split(' ') for i in range(N)], int)\n",
    "a = np.sum(arr, axis = 0)\n",
    "\n",
    "print(np.prod(a))"
   ]
  },
  {
   "cell_type": "markdown",
   "metadata": {},
   "source": [
    "**Q10. You are given a 2-D array with dimensions NXM.\n",
    "Your task is to perform the min function over axis 1 and then find the max of that.**"
   ]
  },
  {
   "cell_type": "code",
   "execution_count": null,
   "metadata": {},
   "outputs": [],
   "source": [
    "N, M = map(int, input().split(' '))\n",
    "\n",
    "arr = np.array([input().split(' ') for i in range(N)], int)\n",
    "\n",
    "a = np.min(arr, axis = 1)\n",
    "\n",
    "print(np.max(a))"
   ]
  }
 ],
 "metadata": {
  "kernelspec": {
   "display_name": "Python 3",
   "language": "python",
   "name": "python3"
  },
  "language_info": {
   "codemirror_mode": {
    "name": "ipython",
    "version": 3
   },
   "file_extension": ".py",
   "mimetype": "text/x-python",
   "name": "python",
   "nbconvert_exporter": "python",
   "pygments_lexer": "ipython3",
   "version": "3.8.5"
  }
 },
 "nbformat": 4,
 "nbformat_minor": 4
}
