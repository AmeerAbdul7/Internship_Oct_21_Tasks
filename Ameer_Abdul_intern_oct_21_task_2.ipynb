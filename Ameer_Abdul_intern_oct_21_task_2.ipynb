{
 "cells": [
  {
   "cell_type": "markdown",
   "metadata": {},
   "source": [
    "**Task 1. You are given three integers x,y and z representing the dimensions of a cuboid along with an integer n.<br> \n",
    "Print a list of all possible coordinates given by \n",
    "(i,j,k) on a 3D grid where the sum of i+j+k is not equal to n.<br> Here,0<=i<=x: 0<=i<=y: 0<=i<=z. Please use list comprehensions rather than multiple loops, as a learning.**\n"
   ]
  },
  {
   "cell_type": "code",
   "execution_count": 14,
   "metadata": {},
   "outputs": [
    {
     "name": "stdout",
     "output_type": "stream",
     "text": [
      "Enter x value 2\n",
      "Enter y value 2\n",
      "Enter z value 2\n",
      "Enter n value 2\n",
      "[[0, 0, 0], [0, 0, 1], [0, 1, 0], [0, 1, 1], [0, 2, 0], [1, 0, 0], [1, 0, 1], [1, 1, 0], [1, 2, 1]]\n"
     ]
    }
   ],
   "source": [
    "x = int(input('Enter x value '))\n",
    "y = int(input('Enter y value '))\n",
    "z = int(input('Enter z value '))\n",
    "n = int(input('Enter n value '))\n",
    "\n",
    "lst_cmp = [[i, j, k] for i in range(x + 1) for j in range(y + 1) for k in range(z + 1) if i + j + k != n]\n",
    "print(ans)"
   ]
  },
  {
   "cell_type": "markdown",
   "metadata": {},
   "source": [
    "**Task 2. Find the Second highest value from a given list.**"
   ]
  },
  {
   "cell_type": "code",
   "execution_count": 88,
   "metadata": {},
   "outputs": [
    {
     "name": "stdout",
     "output_type": "stream",
     "text": [
      "Enter size of a list 4\n",
      "Enter a value 1\n",
      "Enter a value 2\n",
      "Enter a value 2\n",
      "Enter a value 3\n",
      "[1, 2, 2, 3]\n",
      "runner up is:  2\n"
     ]
    }
   ],
   "source": [
    "def snd_low(lst):\n",
    "    lst.sort()\n",
    "    print('second lowest score of students: ', lst[(lst.index(min(lst)))-1])\n",
    "    \n",
    "    \n",
    "\n",
    "a = []\n",
    "b = int(input('Enter size of a list '))\n",
    "for i in range(0,b):\n",
    "    c = int(input('Enter a value '))\n",
    "    a.append(c)\n",
    "    \n",
    "print(a)\n",
    "\n",
    "runner_up(a)\n",
    "\n"
   ]
  },
  {
   "cell_type": "markdown",
   "metadata": {},
   "source": [
    "**Task 3. Given the names and grades for each student in a class of N students, \n",
    "<br> store them in a nested list and print the name(s) of any student(s) having the second lowest grade.**"
   ]
  },
  {
   "cell_type": "code",
   "execution_count": 168,
   "metadata": {},
   "outputs": [
    {
     "name": "stdout",
     "output_type": "stream",
     "text": [
      "Enter No of Students 4\n",
      "Enter Name q\n",
      "Enter Score -1\n",
      "Enter Name w\n",
      "Enter Score -1\n",
      "Enter Name d\n",
      "Enter Score 1\n",
      "Enter Name o\n",
      "Enter Score 1\n",
      "d\n",
      "o\n"
     ]
    }
   ],
   "source": [
    "a = []\n",
    "for i in range(int(input('Enter No of Students '))):\n",
    "    name  = input('Enter Name ')\n",
    "    score = float(input('Enter Score '))\n",
    "    a.append([name,score])\n",
    "    \n",
    "scnd_low = sorted(set([score for name,score in a]))[1]\n",
    "print('\\n'.join(sorted([name for name, score in a if score == scnd_low])))"
   ]
  },
  {
   "cell_type": "markdown",
   "metadata": {},
   "source": [
    "**Task 4. The provided code stub will read in a dictionary containing key/value pairs of name:[marks] for a list of students. Print the average of the marks array for the student name provided, showing 2 places after the decimal.**"
   ]
  },
  {
   "cell_type": "code",
   "execution_count": 175,
   "metadata": {},
   "outputs": [
    {
     "name": "stdout",
     "output_type": "stream",
     "text": [
      "Enter no of students3\n",
      "a 4 4 4\n",
      "b 3 3 3\n",
      "c 2 2 2\n",
      "a\n",
      "4.00\n"
     ]
    }
   ],
   "source": [
    "n = int(input('Enter no of students'))\n",
    "stdnt_mrks = {}\n",
    "\n",
    "for i in range(n):\n",
    "    name, *mrks = input().split()\n",
    "    score = list(map(float, mrks))\n",
    "    stdnt_mrks[name] = score\n",
    "    \n",
    "stdnt_name = input()\n",
    "a = stdnt_mrks[stdnt_name]\n",
    "b = sum(a)/3\n",
    "c = round(b,2)\n",
    "print('{:.2f}'.format(c))"
   ]
  },
  {
   "cell_type": "code",
   "execution_count": null,
   "metadata": {},
   "outputs": [],
   "source": []
  }
 ],
 "metadata": {
  "kernelspec": {
   "display_name": "Python 3",
   "language": "python",
   "name": "python3"
  },
  "language_info": {
   "codemirror_mode": {
    "name": "ipython",
    "version": 3
   },
   "file_extension": ".py",
   "mimetype": "text/x-python",
   "name": "python",
   "nbconvert_exporter": "python",
   "pygments_lexer": "ipython3",
   "version": "3.8.5"
  }
 },
 "nbformat": 4,
 "nbformat_minor": 4
}
