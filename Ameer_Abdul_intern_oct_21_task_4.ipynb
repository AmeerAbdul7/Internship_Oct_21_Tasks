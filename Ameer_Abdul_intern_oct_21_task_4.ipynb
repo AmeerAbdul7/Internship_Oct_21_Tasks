{
 "cells": [
  {
   "cell_type": "markdown",
   "metadata": {},
   "source": [
    "**Task 1. You are given a string and your task is to swap cases. In other words, convert all lowercase letters to uppercase letters and vice versa.**"
   ]
  },
  {
   "cell_type": "code",
   "execution_count": 4,
   "metadata": {},
   "outputs": [
    {
     "data": {
      "text/plain": [
       "'InNOmATiCS rEseARCh LabS'"
      ]
     },
     "execution_count": 4,
     "metadata": {},
     "output_type": "execute_result"
    }
   ],
   "source": [
    "def swap_case(s):\n",
    "    x = \"\"\n",
    "    for i in s:\n",
    "        if i.isupper():\n",
    "            i = i.lower()\n",
    "        else:\n",
    "            i = i.upper()\n",
    "        \n",
    "        x+=\"\".join(i)\n",
    "    return x\n",
    "\n",
    "\n",
    "swap_case('iNnoMatIcs ReSEarcH lABs')"
   ]
  },
  {
   "cell_type": "markdown",
   "metadata": {},
   "source": [
    "**Task 2. You are given a string. Split the string on a \" \" (space) delimiter and join using a - hyphen.**"
   ]
  },
  {
   "cell_type": "code",
   "execution_count": 15,
   "metadata": {},
   "outputs": [
    {
     "name": "stdout",
     "output_type": "stream",
     "text": [
      "this-is-a-string\n"
     ]
    }
   ],
   "source": [
    "def split_and_join(line):\n",
    "    line = line.split(' ')\n",
    "    line = '-'.join(line)\n",
    "    print(line)\n",
    "    \n",
    "        \n",
    "\n",
    "split_and_join('this is a string')"
   ]
  },
  {
   "cell_type": "markdown",
   "metadata": {},
   "source": [
    "**Task 3.You are given the firstname and lastname of a person on two different lines. Your task is to read them and print the following:**"
   ]
  },
  {
   "cell_type": "code",
   "execution_count": 18,
   "metadata": {},
   "outputs": [
    {
     "name": "stdout",
     "output_type": "stream",
     "text": [
      "Ameer\n",
      "Abdul\n",
      "Hello Ameer Abdul! You just delved into python.\n"
     ]
    }
   ],
   "source": [
    "def print_full_name(f,l):\n",
    "    print('Hello '+f+' '+l+'! You just delved into python.')\n",
    "\n",
    "if __name__ == '__main__':\n",
    "    first_name = input()\n",
    "    last_name = input()\n",
    "    print_full_name(first_name, last_name)"
   ]
  },
  {
   "cell_type": "markdown",
   "metadata": {},
   "source": [
    "**Task 4. Read a given string, change the character at a given index and then print the modified string.**"
   ]
  },
  {
   "cell_type": "code",
   "execution_count": 29,
   "metadata": {},
   "outputs": [
    {
     "name": "stdout",
     "output_type": "stream",
     "text": [
      "AmeerAbdol\n",
      "8 u\n",
      "AmeerAbdul\n"
     ]
    }
   ],
   "source": [
    "def mutate_string(string, position, character):\n",
    "    s_new = list(string)\n",
    "    s_new[int(i)] = character\n",
    "    return ''.join(s_new)\n",
    "\n",
    "\n",
    "if __name__ == '__main__':\n",
    "    s = input()\n",
    "    i, c = input().split()\n",
    "    s_new = mutate_string(s, int(i), c)\n",
    "    print(s_new)\n",
    "    "
   ]
  },
  {
   "cell_type": "markdown",
   "metadata": {},
   "source": [
    "**Task 5. In this challenge, the user enters a string and a substring. You have to print the number of times that the substring occurs in the given string. String traversal will take place from left to right, not from right to left.**"
   ]
  },
  {
   "cell_type": "code",
   "execution_count": 7,
   "metadata": {},
   "outputs": [
    {
     "name": "stdout",
     "output_type": "stream",
     "text": [
      "Enter String abcbcaacbbciabcbda\n",
      "Enter Sub_String abc\n"
     ]
    },
    {
     "data": {
      "text/plain": [
       "2"
      ]
     },
     "execution_count": 7,
     "metadata": {},
     "output_type": "execute_result"
    }
   ],
   "source": [
    "def solve(strng,s_s):\n",
    "    c = 0\n",
    "    l = len(s_s)\n",
    "    for i in range(0,len(strng)):\n",
    "        a = strng[i:i+l]\n",
    "        if a == s_s:\n",
    "            c+=1\n",
    "    return c\n",
    "    \n",
    "strng = input('Enter String ') \n",
    "s_s = input('Enter Sub_String ')  \n",
    "solve(strng,s_s)\n",
    "    "
   ]
  },
  {
   "cell_type": "markdown",
   "metadata": {},
   "source": [
    "**Task 6. You are given a string s.<br>\n",
    "Task is to find out if the string s contains: alphanumeric, alphabetical, digits, lowercase and uppercase characters.**"
   ]
  },
  {
   "cell_type": "code",
   "execution_count": 77,
   "metadata": {},
   "outputs": [
    {
     "name": "stdout",
     "output_type": "stream",
     "text": [
      "Enter strng wwww\n",
      "True\n",
      "True\n",
      "False\n",
      "True\n",
      "False\n"
     ]
    }
   ],
   "source": [
    "if __name__ == '__main__':\n",
    "    s = input('Enter strng ')\n",
    "    a = [True if i.isalnum() else False for i in s]\n",
    "    print(any(a))\n",
    "    b = [True if i.isalpha() else False for i in s]\n",
    "    print(any(b))\n",
    "    c = [True if i.isdigit() else False for i in s]\n",
    "    print(any(c))\n",
    "    d = [True if i.islower() else False for i in s]\n",
    "    print(any(d))\n",
    "    e = [True if i.isupper() else False for i in s]\n",
    "    print(any(e))\n",
    "\n",
    "\n",
    "    "
   ]
  },
  {
   "cell_type": "markdown",
   "metadata": {},
   "source": [
    "**Task 7.**"
   ]
  },
  {
   "cell_type": "code",
   "execution_count": null,
   "metadata": {},
   "outputs": [],
   "source": []
  },
  {
   "cell_type": "code",
   "execution_count": null,
   "metadata": {},
   "outputs": [],
   "source": [
    "**Task 1.**"
   ]
  },
  {
   "cell_type": "code",
   "execution_count": null,
   "metadata": {},
   "outputs": [],
   "source": []
  }
 ],
 "metadata": {
  "kernelspec": {
   "display_name": "Python 3",
   "language": "python",
   "name": "python3"
  },
  "language_info": {
   "codemirror_mode": {
    "name": "ipython",
    "version": 3
   },
   "file_extension": ".py",
   "mimetype": "text/x-python",
   "name": "python",
   "nbconvert_exporter": "python",
   "pygments_lexer": "ipython3",
   "version": "3.8.5"
  }
 },
 "nbformat": 4,
 "nbformat_minor": 4
}
