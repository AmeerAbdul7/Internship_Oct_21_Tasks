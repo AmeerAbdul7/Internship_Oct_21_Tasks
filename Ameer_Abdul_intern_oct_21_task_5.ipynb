{
 "cells": [
  {
   "cell_type": "markdown",
   "metadata": {},
   "source": [
    "**Q1. You are given a string S.Your task is to verify that S is a floating point number?**"
   ]
  },
  {
   "cell_type": "code",
   "execution_count": 1,
   "metadata": {},
   "outputs": [],
   "source": [
    "import re"
   ]
  },
  {
   "cell_type": "code",
   "execution_count": 21,
   "metadata": {},
   "outputs": [
    {
     "name": "stdout",
     "output_type": "stream",
     "text": [
      "3.4\n",
      "5.00\n",
      "True\n",
      "5.5\n",
      "True\n",
      "54.67\n",
      "True\n"
     ]
    }
   ],
   "source": [
    "regex = '^[-+]?[\\d]*\\.[\\d]+$'\n",
    "\n",
    "\n",
    "for i in range(int(float(input('')))):\n",
    "    print(bool(re.match(regex,input(''))))"
   ]
  },
  {
   "cell_type": "markdown",
   "metadata": {},
   "source": [
    "**Q2. you are given a string s consisting only of digits 0-9, commas ,, and dots .\n",
    "task is to complete the regex_pattern defined below, which will be used to re.split() all of the , and . symbols in s.\n",
    "It’s guaranteed that every comma and every dot in s is preceeded and followed by a digit.**"
   ]
  },
  {
   "cell_type": "code",
   "execution_count": 3,
   "metadata": {},
   "outputs": [
    {
     "name": "stdout",
     "output_type": "stream",
     "text": [
      "100\n",
      "000\n",
      "000\n",
      "000\n"
     ]
    }
   ],
   "source": [
    "a = '100,000,000.000'\n",
    "regex = '[,.]+'\n",
    "print('\\n'.join(re.split(regex,a)))"
   ]
  },
  {
   "cell_type": "markdown",
   "metadata": {},
   "source": [
    "**Q3.You are given a string s.\n",
    "Your task is to find the first occurrence of an alphanumeric character in s (read from left to right) that has consecutive repetitions.**"
   ]
  },
  {
   "cell_type": "code",
   "execution_count": 2,
   "metadata": {},
   "outputs": [
    {
     "name": "stdout",
     "output_type": "stream",
     "text": [
      "112456778900\n",
      "1\n"
     ]
    }
   ],
   "source": [
    "import re\n",
    "reg = r'([\\w])\\1+'\n",
    "\n",
    "a = re.search(reg,input())\n",
    "if a:\n",
    "    print(a.group(1))\n",
    "else:\n",
    "    print(-1)"
   ]
  },
  {
   "cell_type": "markdown",
   "metadata": {},
   "source": [
    "**Q4.You are given a string s. It consists of alphanumeric characters, spaces and symbols(+,-).\n",
    "Your task is to find all the substrings of s that contains 2 or more vowels.\n",
    "Also, these substrings must lie in between 2 consonants and should contain vowels only.**"
   ]
  },
  {
   "cell_type": "code",
   "execution_count": 3,
   "metadata": {},
   "outputs": [
    {
     "name": "stdout",
     "output_type": "stream",
     "text": [
      "rabcdeefgyYhFjkIoomnpOeorteeeeet\n",
      "ee\n",
      "Ioo\n",
      "Oeo\n",
      "eeeee\n"
     ]
    }
   ],
   "source": [
    "#re. IGNORECASE : This allows for case-insensitive matching of the Regular Expression with the given \n",
    "# string i.e. expressions like [A-Z] will match lowercase letters, too\n",
    "\n",
    "regex = r'(?<=[qwrtypsdfghjklzxcvbnm])([aeiou]{2,})(?=[qwrtypsdfghjklzxcvbnm])'\n",
    "\n",
    "a = re.findall(regex, input().strip(), re.IGNORECASE)\n",
    "\n",
    "if a:\n",
    "    for i in a:\n",
    "        print(i)\n",
    "else:\n",
    "    print(-1)\n"
   ]
  },
  {
   "cell_type": "markdown",
   "metadata": {},
   "source": [
    "**Q5.You are given a string S.\n",
    "task is to find the indices of the start and end of string K in S.**"
   ]
  },
  {
   "cell_type": "code",
   "execution_count": 5,
   "metadata": {},
   "outputs": [
    {
     "name": "stdout",
     "output_type": "stream",
     "text": [
      "aaabaa\n",
      "aa\n",
      "(0, 1)\n",
      "(1, 2)\n",
      "(4, 5)\n"
     ]
    }
   ],
   "source": [
    "s = input()\n",
    "k = input()\n",
    "\n",
    "reg = re.compile(k)\n",
    "match = reg.search(s)\n",
    "\n",
    "if not match: \n",
    "    print('(-1, -1)')\n",
    "    \n",
    "while match:\n",
    "    print('({0}, {1})'.format(match.start(), match.end() - 1))\n",
    "    match = reg.search(s, match.start() + 1)"
   ]
  }
 ],
 "metadata": {
  "kernelspec": {
   "display_name": "Python 3",
   "language": "python",
   "name": "python3"
  },
  "language_info": {
   "codemirror_mode": {
    "name": "ipython",
    "version": 3
   },
   "file_extension": ".py",
   "mimetype": "text/x-python",
   "name": "python",
   "nbconvert_exporter": "python",
   "pygments_lexer": "ipython3",
   "version": "3.8.5"
  }
 },
 "nbformat": 4,
 "nbformat_minor": 4
}
